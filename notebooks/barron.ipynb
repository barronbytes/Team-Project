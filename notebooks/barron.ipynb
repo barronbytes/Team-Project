{
 "cells": [
  {
   "cell_type": "markdown",
   "id": "97c410cb",
   "metadata": {},
   "source": [
    "# EDA of Property Prices and Zoning Classification"
   ]
  },
  {
   "cell_type": "code",
   "execution_count": null,
   "id": "969dc074",
   "metadata": {
    "vscode": {
     "languageId": "plaintext"
    }
   },
   "outputs": [],
   "source": []
  }
 ],
 "metadata": {
  "language_info": {
   "name": "python"
  }
 },
 "nbformat": 4,
 "nbformat_minor": 5
}
