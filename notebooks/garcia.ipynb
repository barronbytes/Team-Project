{
 "cells": [
  {
   "cell_type": "code",
   "execution_count": 26,
   "id": "78783633",
   "metadata": {},
   "outputs": [],
   "source": [
    "import pandas as pd \n",
    "import numpy as np\n",
    "import seaborn as sns\n",
    "import matplotlib.pyplot as plt \n",
    "import matplotlib as map"
   ]
  },
  {
   "cell_type": "code",
   "execution_count": 56,
   "id": "f76bbf87",
   "metadata": {},
   "outputs": [
    {
     "data": {
      "text/plain": [
       "(2919, 81)"
      ]
     },
     "execution_count": 56,
     "metadata": {},
     "output_type": "execute_result"
    }
   ],
   "source": [
    "import pandas as pd\n",
    "\n",
    "df = pd.read_csv(\"../data/data_clean.csv\")\n",
    "\n",
    "sample = pd.read_csv(\"../data/sample_submission.csv\")\n",
    "\n",
    "df.shape\n",
    "                     #cincat"
   ]
  },
  {
   "cell_type": "code",
   "execution_count": null,
   "id": "61dcd95e",
   "metadata": {},
   "outputs": [
    {
     "data": {
      "text/plain": [
       "Ellipsis"
      ]
     },
     "execution_count": 6,
     "metadata": {},
     "output_type": "execute_result"
    }
   ],
   "source": [
    "# TODO: View the first 5 rows of your data\n",
    "df.head()\n",
    "..."
   ]
  },
  {
   "cell_type": "code",
   "execution_count": null,
   "id": "bba28a93",
   "metadata": {},
   "outputs": [],
   "source": [
    "df.describe()"
   ]
  },
  {
   "cell_type": "code",
   "execution_count": null,
   "id": "7d9935a8",
   "metadata": {},
   "outputs": [],
   "source": [
    "df.dropna(inplace=True)"
   ]
  },
  {
   "cell_type": "code",
   "execution_count": null,
   "id": "61f8e97e",
   "metadata": {},
   "source": [
    "\n",
    "print(df[['YearRemodAdd', 'Heating']].isnull().sum())"
   ]
  },
  {
   "cell_type": "code",
   "execution_count": 28,
   "id": "c891c82d",
   "metadata": {},
   "outputs": [],
   "source": [
    "# Add 'YearRemodAdd' and 'Heating' columns from df to sample, and encode 'Heating'\n",
    "import pandas as pd\n",
    "\n",
    "# Load sample and test data\n",
    "sample = pd.read_csv(\"../data/sample_submission.csv\")\n",
    "test = pd.read_csv(\"../data/test.csv\")\n",
    "\n",
    "# Merge 'YearRemodAdd' and 'Heating' from test into sample using 'Id'\n",
    "sample = sample.merge(test[['Id', 'YearRemodAdd', 'Heating']], on='Id', how='left')\n",
    "\n",
    "# Encode 'Heating'\n",
    "df = sample[['Id', 'YearRemodAdd', 'Heating', 'Heating_code']]\n"
   ]
  },
  {
   "cell_type": "code",
   "execution_count": null,
   "id": "bb80f669",
   "metadata": {},
 "outputs": [
    {
      "name": "stdout",
      "output_type": "stream",
      "text": [
        "<Figure size 640x480 with 2 Axes>\n",
        "C:\\Users\\tamta\\Downloads\\output.png\n",
        "C:\\Users\\tamta\\Downloads\\output2.png\n"
      ]
    }
  ],
   "source": [
    "import pandas as pd\n",
"import matplotlib.pyplot as plt\n",
"import seaborn as sns\n",
"\n",
"# Load sample and test data\n",
"sample = pd.read_csv(\"../data/sample_submission.csv\")\n",
"test = pd.read_csv(\"../data/test.csv\")\n",
"\n",
"# Merge sample and test data\n",
"sample = sample.merge(test[['Id', 'YearRemodAdd', 'Heating']], on='Id', how='left')\n",
"\n",
"# Encode Heating with id numbers\n",
"sample['Heating_code'] = sample['Heating'].map({'GasA': 1, 'GasW': 2, 'Grav': 3, 'Wall': 4, 'OthW': 5, 'Floor': 6})\n",
"\n",
"# Crosstab: Shows how many houses have each heating type in each remodel year (last 10 years)\n",
"print(\"Crosstab of YearRemodAdd and Heating (last 10 years):\")\n",
"print(pd.crosstab(sample['YearRemodAdd'], sample['Heating']).tail(10))\n",
"\n",
"# Bar plot: Shows the count of each heating type for the last 20 remodel years\n",
"recent = sample[sample['YearRemodAdd'] >= (sample['YearRemodAdd'].max() - 20)]\n",
"plt.figure(figsize=(12, 6))\n",
"sns.countplot(data=recent, x='YearRemodAdd', hue='Heating')\n",
"plt.title('Heating Type Count by Remodel Year (Last 20 Years)')\n",
"plt.xlabel('Remodel Year')\n",
"plt.ylabel('Number of Houses')\n",
"plt.xticks(rotation=45)\n",
"plt.tight_layout()\n",
"plt.show()\n",
"\n",
"# Crosstab: Shows how many houses have each heating type in each remodel year (last 10 years)\n",
"print(\"Crosstab of YearRemodAdd and Heating (last 10 years):\")\n",
"ct = pd.crosstab(sample['YearRemodAdd'], sample['Heating']).tail(10)\n",
"print(ct)\n",
"\n",
"# Box plot: Shows the distribution of remodel years for each heating type\n",
"plt.figure(figsize=(8, 5))\n",
"sns.boxplot(x='Heating', y='YearRemodAdd', data=sample)\n",
"plt.title('Remodel Year Distribution by Heating Type')\n",
"plt.xlabel('Heating Type')\n",
"plt.ylabel('Remodel Year')\n",
"plt.show()\n",
"\n",
   ]
  }
 ],
 "metadata": {
  "kernelspec": {
   "display_name": ".conda",
   "language": "python",
   "name": "python3"
  },
  "language_info": {
   "codemirror_mode": {
    "name": "ipython",
    "version": 3
   },
   "file_extension": ".py",
   "mimetype": "text/x-python",
   "name": "python",
   "nbconvert_exporter": "python",
   "pygments_lexer": "ipython3",
   "version": "3.12.9"
  }
 },
 "nbformat": 4,
 "nbformat_minor": 5
}
